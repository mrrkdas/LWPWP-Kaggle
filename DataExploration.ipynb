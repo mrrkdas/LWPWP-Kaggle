{
 "cells": [
  {
   "cell_type": "code",
   "execution_count": 1,
   "id": "71f7a283-6264-4326-8384-c65ea80a3aaa",
   "metadata": {
    "tags": []
   },
   "outputs": [],
   "source": [
    "import pandas as pd\n",
    "import numpy as np"
   ]
  },
  {
   "cell_type": "code",
   "execution_count": 5,
   "id": "201b5f3b-4765-485c-be23-493995560910",
   "metadata": {
    "tags": []
   },
   "outputs": [],
   "source": [
    "train_logs = pd.read_csv(\"/Users/helloworld/Desktop/linking-writing-processes-to-writing-quality/train_logs.csv\")\n",
    "train_data = pd.read_csv(\"/Users/helloworld/Desktop/linking-writing-processes-to-writing-quality/train_scores.csv\")\n",
    "sample_sub = pd.read_csv(\""
   ]
  },
  {
   "cell_type": "code",
   "execution_count": null,
   "id": "eaa7a03a-178e-4369-b35c-dc093f6ca468",
   "metadata": {},
   "outputs": [],
   "source": []
  },
  {
   "cell_type": "code",
   "execution_count": null,
   "id": "2226f0d7-20e2-452b-bba0-065347f0e4eb",
   "metadata": {},
   "outputs": [],
   "source": []
  },
  {
   "cell_type": "code",
   "execution_count": null,
   "id": "37927b95-68bb-4554-8f11-d2a6ee27ebf8",
   "metadata": {},
   "outputs": [],
   "source": []
  }
 ],
 "metadata": {
  "kernelspec": {
   "display_name": "Python 3 (ipykernel)",
   "language": "python",
   "name": "python3"
  },
  "language_info": {
   "codemirror_mode": {
    "name": "ipython",
    "version": 3
   },
   "file_extension": ".py",
   "mimetype": "text/x-python",
   "name": "python",
   "nbconvert_exporter": "python",
   "pygments_lexer": "ipython3",
   "version": "3.11.5"
  }
 },
 "nbformat": 4,
 "nbformat_minor": 5
}
