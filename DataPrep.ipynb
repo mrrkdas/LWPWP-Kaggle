{
 "cells": [
  {
   "cell_type": "code",
   "execution_count": 3,
   "id": "9de84183-2f2c-4489-8c4b-3847b24f9708",
   "metadata": {
    "tags": []
   },
   "outputs": [],
   "source": [
    "import pandas as pd\n",
    "import numpy as np"
   ]
  },
  {
   "cell_type": "code",
   "execution_count": 4,
   "id": "eec8df4a-87a4-4f48-b38b-27f4cdfb074b",
   "metadata": {
    "tags": []
   },
   "outputs": [],
   "source": [
    "train_logs = pd.read_csv(\"/Users/helloworld/Desktop/linking-writing-processes-to-writing-quality/train_logs.csv\")\n",
    "train_scores = pd.read_csv(\"/Users/helloworld/Desktop/linking-writing-processes-to-writing-quality/train_scores.csv\")\n",
    "sample_sub = pd.read_csv(\"/Users/helloworld/Desktop/linking-writing-processes-to-writing-quality/sample_submission.csv\")\n",
    "test_logs = pd.read_csv(\"/Users/helloworld/Desktop/linking-writing-processes-to-writing-quality/test_logs.csv\")"
   ]
  },
  {
   "cell_type": "code",
   "execution_count": 5,
   "id": "26f2a408-9d07-476f-95fc-2c7b5d783abd",
   "metadata": {
    "tags": []
   },
   "outputs": [
    {
     "data": {
      "text/html": [
       "<div>\n",
       "<style scoped>\n",
       "    .dataframe tbody tr th:only-of-type {\n",
       "        vertical-align: middle;\n",
       "    }\n",
       "\n",
       "    .dataframe tbody tr th {\n",
       "        vertical-align: top;\n",
       "    }\n",
       "\n",
       "    .dataframe thead th {\n",
       "        text-align: right;\n",
       "    }\n",
       "</style>\n",
       "<table border=\"1\" class=\"dataframe\">\n",
       "  <thead>\n",
       "    <tr style=\"text-align: right;\">\n",
       "      <th></th>\n",
       "      <th>id</th>\n",
       "      <th>event_id</th>\n",
       "      <th>down_time</th>\n",
       "      <th>up_time</th>\n",
       "      <th>action_time</th>\n",
       "      <th>activity</th>\n",
       "      <th>down_event</th>\n",
       "      <th>up_event</th>\n",
       "      <th>text_change</th>\n",
       "      <th>cursor_position</th>\n",
       "      <th>word_count</th>\n",
       "    </tr>\n",
       "  </thead>\n",
       "  <tbody>\n",
       "    <tr>\n",
       "      <th>0</th>\n",
       "      <td>001519c8</td>\n",
       "      <td>1</td>\n",
       "      <td>4526</td>\n",
       "      <td>4557</td>\n",
       "      <td>31</td>\n",
       "      <td>Nonproduction</td>\n",
       "      <td>Leftclick</td>\n",
       "      <td>Leftclick</td>\n",
       "      <td>NoChange</td>\n",
       "      <td>0</td>\n",
       "      <td>0</td>\n",
       "    </tr>\n",
       "    <tr>\n",
       "      <th>1</th>\n",
       "      <td>001519c8</td>\n",
       "      <td>2</td>\n",
       "      <td>4558</td>\n",
       "      <td>4962</td>\n",
       "      <td>404</td>\n",
       "      <td>Nonproduction</td>\n",
       "      <td>Leftclick</td>\n",
       "      <td>Leftclick</td>\n",
       "      <td>NoChange</td>\n",
       "      <td>0</td>\n",
       "      <td>0</td>\n",
       "    </tr>\n",
       "    <tr>\n",
       "      <th>2</th>\n",
       "      <td>001519c8</td>\n",
       "      <td>3</td>\n",
       "      <td>106571</td>\n",
       "      <td>106571</td>\n",
       "      <td>0</td>\n",
       "      <td>Nonproduction</td>\n",
       "      <td>Shift</td>\n",
       "      <td>Shift</td>\n",
       "      <td>NoChange</td>\n",
       "      <td>0</td>\n",
       "      <td>0</td>\n",
       "    </tr>\n",
       "    <tr>\n",
       "      <th>3</th>\n",
       "      <td>001519c8</td>\n",
       "      <td>4</td>\n",
       "      <td>106686</td>\n",
       "      <td>106777</td>\n",
       "      <td>91</td>\n",
       "      <td>Input</td>\n",
       "      <td>q</td>\n",
       "      <td>q</td>\n",
       "      <td>q</td>\n",
       "      <td>1</td>\n",
       "      <td>1</td>\n",
       "    </tr>\n",
       "    <tr>\n",
       "      <th>4</th>\n",
       "      <td>001519c8</td>\n",
       "      <td>5</td>\n",
       "      <td>107196</td>\n",
       "      <td>107323</td>\n",
       "      <td>127</td>\n",
       "      <td>Input</td>\n",
       "      <td>q</td>\n",
       "      <td>q</td>\n",
       "      <td>q</td>\n",
       "      <td>2</td>\n",
       "      <td>1</td>\n",
       "    </tr>\n",
       "  </tbody>\n",
       "</table>\n",
       "</div>"
      ],
      "text/plain": [
       "         id  event_id  down_time  up_time  action_time       activity  \\\n",
       "0  001519c8         1       4526     4557           31  Nonproduction   \n",
       "1  001519c8         2       4558     4962          404  Nonproduction   \n",
       "2  001519c8         3     106571   106571            0  Nonproduction   \n",
       "3  001519c8         4     106686   106777           91          Input   \n",
       "4  001519c8         5     107196   107323          127          Input   \n",
       "\n",
       "  down_event   up_event text_change  cursor_position  word_count  \n",
       "0  Leftclick  Leftclick    NoChange                0           0  \n",
       "1  Leftclick  Leftclick    NoChange                0           0  \n",
       "2      Shift      Shift    NoChange                0           0  \n",
       "3          q          q           q                1           1  \n",
       "4          q          q           q                2           1  "
      ]
     },
     "execution_count": 5,
     "metadata": {},
     "output_type": "execute_result"
    }
   ],
   "source": [
    "train_logs.head()"
   ]
  },
  {
   "cell_type": "code",
   "execution_count": 6,
   "id": "65cca2e7-6e94-412b-8faa-b0a70092d870",
   "metadata": {
    "tags": []
   },
   "outputs": [],
   "source": [
    "train_data = train_logs.merge(train_scores, how='inner', on=\"id\")"
   ]
  },
  {
   "cell_type": "markdown",
   "id": "42b5a5a6-8bc4-4483-9a34-5b88e25b696e",
   "metadata": {},
   "source": [
    "# Converting from categorical data to numerical data"
   ]
  },
  {
   "cell_type": "code",
   "execution_count": 7,
   "id": "4734e839-5289-4c35-9ed1-6156ef375549",
   "metadata": {
    "tags": []
   },
   "outputs": [],
   "source": [
    "from sklearn.preprocessing import LabelEncoder"
   ]
  },
  {
   "cell_type": "code",
   "execution_count": 8,
   "id": "7679d112-e840-49bf-a752-52897292c9ed",
   "metadata": {
    "tags": []
   },
   "outputs": [],
   "source": [
    "le = LabelEncoder()"
   ]
  },
  {
   "cell_type": "code",
   "execution_count": 9,
   "id": "3f45898e-4038-4cb4-9d0c-5025bbb1d312",
   "metadata": {
    "tags": []
   },
   "outputs": [],
   "source": [
    "label = le.fit_transform(train_data[\"activity\"])"
   ]
  },
  {
   "cell_type": "code",
   "execution_count": 10,
   "id": "b36be009-cad6-4e33-aa6d-d64c044f421b",
   "metadata": {
    "tags": []
   },
   "outputs": [],
   "source": [
    "label_array = np.array(label)"
   ]
  },
  {
   "cell_type": "code",
   "execution_count": 11,
   "id": "0cd55207-5ff5-4cd4-9554-811eecb83a49",
   "metadata": {
    "tags": []
   },
   "outputs": [],
   "source": [
    "train_data[\"activity_label\"] = label_array"
   ]
  },
  {
   "cell_type": "code",
   "execution_count": 12,
   "id": "5425d44b-6124-4b38-9576-7d25ff5778df",
   "metadata": {
    "tags": []
   },
   "outputs": [
    {
     "ename": "SyntaxError",
     "evalue": "incomplete input (157402533.py, line 1)",
     "output_type": "error",
     "traceback": [
      "\u001b[0;36m  Cell \u001b[0;32mIn[12], line 1\u001b[0;36m\u001b[0m\n\u001b[0;31m    train_data.drop(\u001b[0m\n\u001b[0m                    ^\u001b[0m\n\u001b[0;31mSyntaxError\u001b[0m\u001b[0;31m:\u001b[0m incomplete input\n"
     ]
    }
   ],
   "source": [
    "train_data.drop("
   ]
  },
  {
   "cell_type": "code",
   "execution_count": null,
   "id": "3e16a459-944f-4c59-a18e-687d5c03ffba",
   "metadata": {},
   "outputs": [],
   "source": [
    "train_data.drop(\"activity\", axis = 1, inplace = True)"
   ]
  },
  {
   "cell_type": "code",
   "execution_count": null,
   "id": "99877bb2-2697-4c84-af61-1f1c1a4aca7a",
   "metadata": {
    "tags": []
   },
   "outputs": [],
   "source": [
    "train_data"
   ]
  },
  {
   "cell_type": "code",
   "execution_count": null,
   "id": "bd659a61-abd9-4db2-bfda-8457db6dc8a1",
   "metadata": {
    "tags": []
   },
   "outputs": [],
   "source": [
    "column_list = train_data.columns.values.tolist()"
   ]
  },
  {
   "cell_type": "code",
   "execution_count": null,
   "id": "3bd30bf3-f5fa-4496-a275-13852b753e80",
   "metadata": {
    "tags": []
   },
   "outputs": [],
   "source": [
    "del column_list[3:4]"
   ]
  },
  {
   "cell_type": "code",
   "execution_count": null,
   "id": "421402af-81a0-4030-835c-4b99588e86d4",
   "metadata": {
    "tags": []
   },
   "outputs": [],
   "source": [
    "column_list"
   ]
  },
  {
   "cell_type": "code",
   "execution_count": null,
   "id": "09af1516-530d-4836-b90d-68e7080e9be9",
   "metadata": {
    "tags": []
   },
   "outputs": [],
   "source": [
    "def transformColumns(column_list):\n",
    "    i = 0\n",
    "    while (i < len(column_list)):\n",
    "        # Defining LabelEncoder\n",
    "        le = LabelEncoder()\n",
    "        \n",
    "        \n",
    "        \n",
    "        labels = np.array(le.fit_transform(train_data[column_list[i]]))\n",
    "        \n",
    "         \n",
    "        train_data[column_list[i] + \"_label\"] = labels\n",
    "        \n",
    "        print(f'Added {column_list[i]} to the train data')\n",
    "        \n",
    "        train_data.drop(column_list[i])\n",
    "        \n",
    "        print(f'Dropped {column_list[i]} from the train data')\n",
    "                                \n",
    "        # Add 1 to i\n",
    "        i+=1\n",
    "        \n",
    "        "
   ]
  },
  {
   "cell_type": "code",
   "execution_count": null,
   "id": "ce20e1f0-a2c3-4268-81e2-539a53106c6f",
   "metadata": {
    "tags": []
   },
   "outputs": [],
   "source": [
    "transformColumns(column_list)"
   ]
  },
  {
   "cell_type": "code",
   "execution_count": null,
   "id": "3d57f905-fed3-4c70-b8ca-ad8d033ef65d",
   "metadata": {
    "tags": []
   },
   "outputs": [],
   "source": [
    "train_data.drop(['down_event', 'up_event', 'text_change'], axis = 1, inplace = True)"
   ]
  },
  {
   "cell_type": "code",
   "execution_count": null,
   "id": "6de16505-ca78-42f6-92ca-c495855ef188",
   "metadata": {
    "tags": []
   },
   "outputs": [],
   "source": [
    "train_data"
   ]
  },
  {
   "cell_type": "code",
   "execution_count": 1,
   "id": "ef1e2d66-9313-4397-a9f6-2fe36ab3ae85",
   "metadata": {},
   "outputs": [
    {
     "ename": "NameError",
     "evalue": "name 'train_data' is not defined",
     "output_type": "error",
     "traceback": [
      "\u001b[0;31m---------------------------------------------------------------------------\u001b[0m",
      "\u001b[0;31mNameError\u001b[0m                                 Traceback (most recent call last)",
      "Cell \u001b[0;32mIn[1], line 1\u001b[0m\n\u001b[0;32m----> 1\u001b[0m train_data\u001b[38;5;241m.\u001b[39mcorr()\n",
      "\u001b[0;31mNameError\u001b[0m: name 'train_data' is not defined"
     ]
    }
   ],
   "source": [
    "train_data.corr()"
   ]
  },
  {
   "cell_type": "code",
   "execution_count": null,
   "id": "cc63bea7-48cc-46b8-b9ee-cc2dfa2194d3",
   "metadata": {},
   "outputs": [],
   "source": []
  }
 ],
 "metadata": {
  "kernelspec": {
   "display_name": "Python 3 (ipykernel)",
   "language": "python",
   "name": "python3"
  },
  "language_info": {
   "codemirror_mode": {
    "name": "ipython",
    "version": 3
   },
   "file_extension": ".py",
   "mimetype": "text/x-python",
   "name": "python",
   "nbconvert_exporter": "python",
   "pygments_lexer": "ipython3",
   "version": "3.11.5"
  }
 },
 "nbformat": 4,
 "nbformat_minor": 5
}
