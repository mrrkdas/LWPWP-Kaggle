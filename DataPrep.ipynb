{
 "cells": [
  {
   "cell_type": "code",
   "execution_count": 1,
   "id": "9de84183-2f2c-4489-8c4b-3847b24f9708",
   "metadata": {
    "tags": []
   },
   "outputs": [],
   "source": [
    "import pandas as pd\n",
    "import numpy as np"
   ]
  },
  {
   "cell_type": "code",
   "execution_count": 2,
   "id": "eec8df4a-87a4-4f48-b38b-27f4cdfb074b",
   "metadata": {
    "tags": []
   },
   "outputs": [],
   "source": [
    "train_logs = pd.read_csv(\"/Users/helloworld/Desktop/linking-writing-processes-to-writing-quality/train_logs.csv\")\n",
    "train_scores = pd.read_csv(\"/Users/helloworld/Desktop/linking-writing-processes-to-writing-quality/train_scores.csv\")\n",
    "sample_sub = pd.read_csv(\"/Users/helloworld/Desktop/linking-writing-processes-to-writing-quality/sample_submission.csv\")\n",
    "test_logs = pd.read_csv(\"/Users/helloworld/Desktop/linking-writing-processes-to-writing-quality/test_logs.csv\")"
   ]
  },
  {
   "cell_type": "code",
   "execution_count": null,
   "id": "26f2a408-9d07-476f-95fc-2c7b5d783abd",
   "metadata": {},
   "outputs": [],
   "source": []
  }
 ],
 "metadata": {
  "kernelspec": {
   "display_name": "Python 3 (ipykernel)",
   "language": "python",
   "name": "python3"
  },
  "language_info": {
   "codemirror_mode": {
    "name": "ipython",
    "version": 3
   },
   "file_extension": ".py",
   "mimetype": "text/x-python",
   "name": "python",
   "nbconvert_exporter": "python",
   "pygments_lexer": "ipython3",
   "version": "3.11.5"
  }
 },
 "nbformat": 4,
 "nbformat_minor": 5
}
