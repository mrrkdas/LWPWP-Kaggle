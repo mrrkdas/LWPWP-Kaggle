{
 "cells": [
  {
   "cell_type": "markdown",
   "id": "fe0854d4-934f-4fc4-9a6d-d8f4920d906b",
   "metadata": {},
   "source": [
    "# Model 1 (LGMBRegressor)"
   ]
  },
  {
   "cell_type": "code",
   "execution_count": null,
   "id": "fb1017dc-1aca-47df-852f-50c7f1d2a34b",
   "metadata": {},
   "outputs": [],
   "source": [
    "import pandas as pd\n",
    "import numpy as np\n",
    "from sklearn.model_selection import train_test_split\n",
    "import matplotlib.pyplot as plt\n",
    "import lightgbm as lgbm"
   ]
  },
  {
   "cell_type": "markdown",
   "id": "8960ef4e-3cab-4e11-a648-ff35b4928173",
   "metadata": {},
   "source": [
    "# Data Prep"
   ]
  },
  {
   "cell_type": "code",
   "execution_count": null,
   "id": "3cecd2a3-1453-4450-a553-27e294065b61",
   "metadata": {},
   "outputs": [],
   "source": [
    "# import data\n"
   ]
  },
  {
   "cell_type": "code",
   "execution_count": null,
   "id": "a759ae3d-e2f6-4fb3-bfb7-ff0ed4fcced7",
   "metadata": {},
   "outputs": [],
   "source": [
    "train_data = train_logs.merge(train_scores, how='inner', on=\"id\")"
   ]
  },
  {
   "cell_type": "code",
   "execution_count": null,
   "id": "ecbaffe1-c0d6-4efe-aaf7-cbb27ff3a127",
   "metadata": {},
   "outputs": [],
   "source": [
    "train_data"
   ]
  },
  {
   "cell_type": "code",
   "execution_count": null,
   "id": "3dc31e95-850a-4283-85c8-1dab3cce6c2c",
   "metadata": {},
   "outputs": [],
   "source": [
    "len(train_data[\"id\"].unique())"
   ]
  },
  {
   "cell_type": "code",
   "execution_count": null,
   "id": "0d07019c-cd31-46f9-937d-b53a9ac5be4c",
   "metadata": {},
   "outputs": [],
   "source": [
    "test_logs"
   ]
  },
  {
   "cell_type": "code",
   "execution_count": null,
   "id": "e86ab240-af1a-41e8-bb85-54d3e516638e",
   "metadata": {},
   "outputs": [],
   "source": [
    "train_data[\"activity\"].describe()"
   ]
  },
  {
   "cell_type": "code",
   "execution_count": null,
   "id": "134b8771-497c-4d87-adbc-c018041f3b2b",
   "metadata": {},
   "outputs": [],
   "source": [
    "train_data[train_data[\"id\"]==\"001519c8\"]"
   ]
  },
  {
   "cell_type": "code",
   "execution_count": null,
   "id": "7a980827-40b7-45a8-a900-8b0811473ab8",
   "metadata": {},
   "outputs": [],
   "source": [
    "print(train_data[\"activity\"].unique())"
   ]
  },
  {
   "cell_type": "code",
   "execution_count": null,
   "id": "86b2eea2-8539-470d-a93e-c7647e51914e",
   "metadata": {},
   "outputs": [],
   "source": [
    "def feature_eng(df) :\n",
    "    df_train  = df[[\"id\",\"down_time\",]].groupby(\"id\").min()\n",
    "    df_temp   = df[[\"id\",\"up_time\",]].groupby(\"id\").max()\n",
    "    df_train  = pd.merge(df_train, df_temp, on=\"id\", how=\"left\")\n",
    "    df_temp   = df[[\"id\",\"action_time\",]].groupby(\"id\").sum()\n",
    "    df_train  = pd.merge(df_train, df_temp, on=\"id\", how=\"left\")\n",
    "    df_temp   = df[[\"id\",\"word_count\",]].groupby(\"id\").max()\n",
    "    df_train  = pd.merge(df_train, df_temp, on=\"id\", how=\"left\")\n",
    "        \n",
    "    df[\"activity\"] = df[\"activity\"].str[:4]\n",
    "    df[\"Inpu\"] = df[\"activity\"].apply(lambda x:1 if x==\"Inpu\" else 0)\n",
    "    df[\"Move\"] = df[\"activity\"].apply(lambda x:1 if x==\"Move\" else 0)\n",
    "    df[\"Nonp\"] = df[\"activity\"].apply(lambda x:1 if x==\"Nonp\" else 0)\n",
    "    df[\"Past\"] = df[\"activity\"].apply(lambda x:1 if x==\"Past\" else 0)\n",
    "    df[\"Remo\"] = df[\"activity\"].apply(lambda x:1 if x==\"Remo\" else 0)\n",
    "    df[\"Repl\"] = df[\"activity\"].apply(lambda x:1 if x==\"Repl\" else 0)\n",
    "    \n",
    "    df_temp = df[[\"id\",\"Inpu\",\"Move\",\"Nonp\",\"Past\",\"Remo\",\"Repl\"]].groupby(\"id\").sum()\n",
    "    df_train  = pd.merge(df_train, df_temp, on=\"id\", how=\"left\")\n",
    "    \n",
    "    return df_train"
   ]
  },
  {
   "cell_type": "code",
   "execution_count": null,
   "id": "801eabfd-34d5-44f5-833c-086ac6cf1054",
   "metadata": {},
   "outputs": [],
   "source": [
    "train_df = feature_eng(train_data)"
   ]
  },
  {
   "cell_type": "code",
   "execution_count": null,
   "id": "4ed50fba-c336-466b-b8f0-6301f10bd851",
   "metadata": {},
   "outputs": [],
   "source": [
    "train_df"
   ]
  },
  {
   "cell_type": "code",
   "execution_count": null,
   "id": "26d5077a-a016-426d-b2fc-505f692eb944",
   "metadata": {},
   "outputs": [],
   "source": [
    "train_df.drop(\"id\", axis= 1, inplace = True)"
   ]
  },
  {
   "cell_type": "code",
   "execution_count": null,
   "id": "dfbb777c-d73f-4af4-9a4b-2eef09e6b4ed",
   "metadata": {},
   "outputs": [],
   "source": [
    "model = lgbm.LGBMRegressor(n_estimators = 500)\n",
    "x = df\n",
    "y = train_scores"
   ]
  },
  {
   "cell_type": "code",
   "execution_count": null,
   "id": "7e51cfae-6dbb-44ef-9249-c5a1ed4c7171",
   "metadata": {},
   "outputs": [],
   "source": [
    "model.fit(x,y)"
   ]
  },
  {
   "cell_type": "code",
   "execution_count": null,
   "id": "46fee1c5-395a-44d0-84f7-2d3bfb819862",
   "metadata": {},
   "outputs": [],
   "source": [
    "lgbm.plot_importance(model, importance_type=\"gain\")"
   ]
  },
  {
   "cell_type": "markdown",
   "id": "73d17d3a-67af-4928-ba67-4d740e5996e9",
   "metadata": {},
   "source": [
    "# Submission"
   ]
  },
  {
   "cell_type": "code",
   "execution_count": null,
   "id": "60d2823a-4a93-4089-b422-8519c5792573",
   "metadata": {},
   "outputs": [],
   "source": [
    "df_test = feature_eng(test_logs)"
   ]
  },
  {
   "cell_type": "code",
   "execution_count": null,
   "id": "60eb4a72-ee37-494f-b5bd-1af454938675",
   "metadata": {},
   "outputs": [],
   "source": [
    "df_test.drop(\"id\", axis = 1, inplace = True)"
   ]
  },
  {
   "cell_type": "code",
   "execution_count": null,
   "id": "d02d99ca-01a3-4ec8-8422-8038395e5e42",
   "metadata": {},
   "outputs": [],
   "source": [
    "predicted_scores = model.predict(df_test)"
   ]
  },
  {
   "cell_type": "code",
   "execution_count": null,
   "id": "54622c64-e873-44fe-bbbc-81e7b1d1c337",
   "metadata": {},
   "outputs": [],
   "source": [
    "submissions_v1 = pd.DataFrame({'id': df_test['id'], 'score':predicted_scores})"
   ]
  },
  {
   "cell_type": "code",
   "execution_count": null,
   "id": "0dc6a586-e39b-4298-ac99-3c00b1bd2526",
   "metadata": {},
   "outputs": [],
   "source": []
  }
 ],
 "metadata": {
  "kernelspec": {
   "display_name": "Python 3 (ipykernel)",
   "language": "python",
   "name": "python3"
  },
  "language_info": {
   "codemirror_mode": {
    "name": "ipython",
    "version": 3
   },
   "file_extension": ".py",
   "mimetype": "text/x-python",
   "name": "python",
   "nbconvert_exporter": "python",
   "pygments_lexer": "ipython3",
   "version": "3.11.5"
  }
 },
 "nbformat": 4,
 "nbformat_minor": 5
}
