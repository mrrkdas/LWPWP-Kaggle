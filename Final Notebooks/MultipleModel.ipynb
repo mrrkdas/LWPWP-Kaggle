{
 "cells": [
  {
   "cell_type": "markdown",
   "id": "fe0854d4-934f-4fc4-9a6d-d8f4920d906b",
   "metadata": {
    "tags": []
   },
   "source": [
    "# Multiple Models"
   ]
  },
  {
   "cell_type": "code",
   "execution_count": 1,
   "id": "fb1017dc-1aca-47df-852f-50c7f1d2a34b",
   "metadata": {},
   "outputs": [],
   "source": [
    "import pandas as pd\n",
    "import numpy as np\n",
    "from sklearn.model_selection import train_test_split\n",
    "import matplotlib.pyplot as plt\n",
    "import lightgbm as lgbm\n",
    "import catboost as cb\n",
    "from sklearn.neighbors import KNeighborsRegressor\n",
    "import sklearn"
   ]
  },
  {
   "cell_type": "code",
   "execution_count": null,
   "id": "1a72d067-62e8-4784-a868-b4b90c16097f",
   "metadata": {},
   "outputs": [],
   "source": []
  },
  {
   "cell_type": "markdown",
   "id": "8960ef4e-3cab-4e11-a648-ff35b4928173",
   "metadata": {},
   "source": [
    "# Data Prep"
   ]
  },
  {
   "cell_type": "code",
   "execution_count": 2,
   "id": "3cecd2a3-1453-4450-a553-27e294065b61",
   "metadata": {},
   "outputs": [],
   "source": [
    "# import data\n",
    "train_logs = pd.read_csv(\"/Users/helloworld/Desktop/linking-writing-processes-to-writing-quality/train_logs.csv\")\n",
    "train_scores = pd.read_csv(\"/Users/helloworld/Desktop/linking-writing-processes-to-writing-quality/train_scores.csv\")\n",
    "sample_sub = pd.read_csv(\"/Users/helloworld/Desktop/linking-writing-processes-to-writing-quality/sample_submission.csv\")\n",
    "test_logs = pd.read_csv(\"/Users/helloworld/Desktop/linking-writing-processes-to-writing-quality/test_logs.csv\")"
   ]
  },
  {
   "cell_type": "code",
   "execution_count": 3,
   "id": "a759ae3d-e2f6-4fb3-bfb7-ff0ed4fcced7",
   "metadata": {},
   "outputs": [],
   "source": [
    "train_data = train_logs.merge(train_scores, how='inner', on=\"id\")"
   ]
  },
  {
   "cell_type": "code",
   "execution_count": 4,
   "id": "ecbaffe1-c0d6-4efe-aaf7-cbb27ff3a127",
   "metadata": {},
   "outputs": [
    {
     "data": {
      "text/html": [
       "<div>\n",
       "<style scoped>\n",
       "    .dataframe tbody tr th:only-of-type {\n",
       "        vertical-align: middle;\n",
       "    }\n",
       "\n",
       "    .dataframe tbody tr th {\n",
       "        vertical-align: top;\n",
       "    }\n",
       "\n",
       "    .dataframe thead th {\n",
       "        text-align: right;\n",
       "    }\n",
       "</style>\n",
       "<table border=\"1\" class=\"dataframe\">\n",
       "  <thead>\n",
       "    <tr style=\"text-align: right;\">\n",
       "      <th></th>\n",
       "      <th>id</th>\n",
       "      <th>event_id</th>\n",
       "      <th>down_time</th>\n",
       "      <th>up_time</th>\n",
       "      <th>action_time</th>\n",
       "      <th>activity</th>\n",
       "      <th>down_event</th>\n",
       "      <th>up_event</th>\n",
       "      <th>text_change</th>\n",
       "      <th>cursor_position</th>\n",
       "      <th>word_count</th>\n",
       "      <th>score</th>\n",
       "    </tr>\n",
       "  </thead>\n",
       "  <tbody>\n",
       "    <tr>\n",
       "      <th>0</th>\n",
       "      <td>001519c8</td>\n",
       "      <td>1</td>\n",
       "      <td>4526</td>\n",
       "      <td>4557</td>\n",
       "      <td>31</td>\n",
       "      <td>Nonproduction</td>\n",
       "      <td>Leftclick</td>\n",
       "      <td>Leftclick</td>\n",
       "      <td>NoChange</td>\n",
       "      <td>0</td>\n",
       "      <td>0</td>\n",
       "      <td>3.5</td>\n",
       "    </tr>\n",
       "    <tr>\n",
       "      <th>1</th>\n",
       "      <td>001519c8</td>\n",
       "      <td>2</td>\n",
       "      <td>4558</td>\n",
       "      <td>4962</td>\n",
       "      <td>404</td>\n",
       "      <td>Nonproduction</td>\n",
       "      <td>Leftclick</td>\n",
       "      <td>Leftclick</td>\n",
       "      <td>NoChange</td>\n",
       "      <td>0</td>\n",
       "      <td>0</td>\n",
       "      <td>3.5</td>\n",
       "    </tr>\n",
       "    <tr>\n",
       "      <th>2</th>\n",
       "      <td>001519c8</td>\n",
       "      <td>3</td>\n",
       "      <td>106571</td>\n",
       "      <td>106571</td>\n",
       "      <td>0</td>\n",
       "      <td>Nonproduction</td>\n",
       "      <td>Shift</td>\n",
       "      <td>Shift</td>\n",
       "      <td>NoChange</td>\n",
       "      <td>0</td>\n",
       "      <td>0</td>\n",
       "      <td>3.5</td>\n",
       "    </tr>\n",
       "    <tr>\n",
       "      <th>3</th>\n",
       "      <td>001519c8</td>\n",
       "      <td>4</td>\n",
       "      <td>106686</td>\n",
       "      <td>106777</td>\n",
       "      <td>91</td>\n",
       "      <td>Input</td>\n",
       "      <td>q</td>\n",
       "      <td>q</td>\n",
       "      <td>q</td>\n",
       "      <td>1</td>\n",
       "      <td>1</td>\n",
       "      <td>3.5</td>\n",
       "    </tr>\n",
       "    <tr>\n",
       "      <th>4</th>\n",
       "      <td>001519c8</td>\n",
       "      <td>5</td>\n",
       "      <td>107196</td>\n",
       "      <td>107323</td>\n",
       "      <td>127</td>\n",
       "      <td>Input</td>\n",
       "      <td>q</td>\n",
       "      <td>q</td>\n",
       "      <td>q</td>\n",
       "      <td>2</td>\n",
       "      <td>1</td>\n",
       "      <td>3.5</td>\n",
       "    </tr>\n",
       "    <tr>\n",
       "      <th>...</th>\n",
       "      <td>...</td>\n",
       "      <td>...</td>\n",
       "      <td>...</td>\n",
       "      <td>...</td>\n",
       "      <td>...</td>\n",
       "      <td>...</td>\n",
       "      <td>...</td>\n",
       "      <td>...</td>\n",
       "      <td>...</td>\n",
       "      <td>...</td>\n",
       "      <td>...</td>\n",
       "      <td>...</td>\n",
       "    </tr>\n",
       "    <tr>\n",
       "      <th>8405893</th>\n",
       "      <td>fff05981</td>\n",
       "      <td>3615</td>\n",
       "      <td>2063944</td>\n",
       "      <td>2064440</td>\n",
       "      <td>496</td>\n",
       "      <td>Nonproduction</td>\n",
       "      <td>Leftclick</td>\n",
       "      <td>Leftclick</td>\n",
       "      <td>NoChange</td>\n",
       "      <td>1031</td>\n",
       "      <td>240</td>\n",
       "      <td>4.0</td>\n",
       "    </tr>\n",
       "    <tr>\n",
       "      <th>8405894</th>\n",
       "      <td>fff05981</td>\n",
       "      <td>3616</td>\n",
       "      <td>2064497</td>\n",
       "      <td>2064497</td>\n",
       "      <td>0</td>\n",
       "      <td>Nonproduction</td>\n",
       "      <td>Shift</td>\n",
       "      <td>Shift</td>\n",
       "      <td>NoChange</td>\n",
       "      <td>1031</td>\n",
       "      <td>240</td>\n",
       "      <td>4.0</td>\n",
       "    </tr>\n",
       "    <tr>\n",
       "      <th>8405895</th>\n",
       "      <td>fff05981</td>\n",
       "      <td>3617</td>\n",
       "      <td>2064657</td>\n",
       "      <td>2064765</td>\n",
       "      <td>108</td>\n",
       "      <td>Replace</td>\n",
       "      <td>q</td>\n",
       "      <td>q</td>\n",
       "      <td>q =&gt; q</td>\n",
       "      <td>1031</td>\n",
       "      <td>240</td>\n",
       "      <td>4.0</td>\n",
       "    </tr>\n",
       "    <tr>\n",
       "      <th>8405896</th>\n",
       "      <td>fff05981</td>\n",
       "      <td>3618</td>\n",
       "      <td>2069186</td>\n",
       "      <td>2069259</td>\n",
       "      <td>73</td>\n",
       "      <td>Nonproduction</td>\n",
       "      <td>Leftclick</td>\n",
       "      <td>Leftclick</td>\n",
       "      <td>NoChange</td>\n",
       "      <td>1028</td>\n",
       "      <td>240</td>\n",
       "      <td>4.0</td>\n",
       "    </tr>\n",
       "    <tr>\n",
       "      <th>8405897</th>\n",
       "      <td>fff05981</td>\n",
       "      <td>3619</td>\n",
       "      <td>2070065</td>\n",
       "      <td>2070133</td>\n",
       "      <td>68</td>\n",
       "      <td>Input</td>\n",
       "      <td>.</td>\n",
       "      <td>.</td>\n",
       "      <td>.</td>\n",
       "      <td>1029</td>\n",
       "      <td>240</td>\n",
       "      <td>4.0</td>\n",
       "    </tr>\n",
       "  </tbody>\n",
       "</table>\n",
       "<p>8405898 rows × 12 columns</p>\n",
       "</div>"
      ],
      "text/plain": [
       "               id  event_id  down_time  up_time  action_time       activity  \\\n",
       "0        001519c8         1       4526     4557           31  Nonproduction   \n",
       "1        001519c8         2       4558     4962          404  Nonproduction   \n",
       "2        001519c8         3     106571   106571            0  Nonproduction   \n",
       "3        001519c8         4     106686   106777           91          Input   \n",
       "4        001519c8         5     107196   107323          127          Input   \n",
       "...           ...       ...        ...      ...          ...            ...   \n",
       "8405893  fff05981      3615    2063944  2064440          496  Nonproduction   \n",
       "8405894  fff05981      3616    2064497  2064497            0  Nonproduction   \n",
       "8405895  fff05981      3617    2064657  2064765          108        Replace   \n",
       "8405896  fff05981      3618    2069186  2069259           73  Nonproduction   \n",
       "8405897  fff05981      3619    2070065  2070133           68          Input   \n",
       "\n",
       "        down_event   up_event text_change  cursor_position  word_count  score  \n",
       "0        Leftclick  Leftclick    NoChange                0           0    3.5  \n",
       "1        Leftclick  Leftclick    NoChange                0           0    3.5  \n",
       "2            Shift      Shift    NoChange                0           0    3.5  \n",
       "3                q          q           q                1           1    3.5  \n",
       "4                q          q           q                2           1    3.5  \n",
       "...            ...        ...         ...              ...         ...    ...  \n",
       "8405893  Leftclick  Leftclick    NoChange             1031         240    4.0  \n",
       "8405894      Shift      Shift    NoChange             1031         240    4.0  \n",
       "8405895          q          q      q => q             1031         240    4.0  \n",
       "8405896  Leftclick  Leftclick    NoChange             1028         240    4.0  \n",
       "8405897          .          .           .             1029         240    4.0  \n",
       "\n",
       "[8405898 rows x 12 columns]"
      ]
     },
     "execution_count": 4,
     "metadata": {},
     "output_type": "execute_result"
    }
   ],
   "source": [
    "train_data"
   ]
  },
  {
   "cell_type": "code",
   "execution_count": 5,
   "id": "3dc31e95-850a-4283-85c8-1dab3cce6c2c",
   "metadata": {},
   "outputs": [
    {
     "data": {
      "text/plain": [
       "2471"
      ]
     },
     "execution_count": 5,
     "metadata": {},
     "output_type": "execute_result"
    }
   ],
   "source": [
    "len(train_data[\"id\"].unique())"
   ]
  },
  {
   "cell_type": "code",
   "execution_count": 6,
   "id": "0d07019c-cd31-46f9-937d-b53a9ac5be4c",
   "metadata": {},
   "outputs": [
    {
     "data": {
      "text/html": [
       "<div>\n",
       "<style scoped>\n",
       "    .dataframe tbody tr th:only-of-type {\n",
       "        vertical-align: middle;\n",
       "    }\n",
       "\n",
       "    .dataframe tbody tr th {\n",
       "        vertical-align: top;\n",
       "    }\n",
       "\n",
       "    .dataframe thead th {\n",
       "        text-align: right;\n",
       "    }\n",
       "</style>\n",
       "<table border=\"1\" class=\"dataframe\">\n",
       "  <thead>\n",
       "    <tr style=\"text-align: right;\">\n",
       "      <th></th>\n",
       "      <th>id</th>\n",
       "      <th>event_id</th>\n",
       "      <th>down_time</th>\n",
       "      <th>up_time</th>\n",
       "      <th>action_time</th>\n",
       "      <th>activity</th>\n",
       "      <th>down_event</th>\n",
       "      <th>up_event</th>\n",
       "      <th>text_change</th>\n",
       "      <th>cursor_position</th>\n",
       "      <th>word_count</th>\n",
       "    </tr>\n",
       "  </thead>\n",
       "  <tbody>\n",
       "    <tr>\n",
       "      <th>0</th>\n",
       "      <td>0000aaaa</td>\n",
       "      <td>1</td>\n",
       "      <td>338433</td>\n",
       "      <td>338518</td>\n",
       "      <td>85</td>\n",
       "      <td>Input</td>\n",
       "      <td>Space</td>\n",
       "      <td>Space</td>\n",
       "      <td></td>\n",
       "      <td>0</td>\n",
       "      <td>0</td>\n",
       "    </tr>\n",
       "    <tr>\n",
       "      <th>1</th>\n",
       "      <td>0000aaaa</td>\n",
       "      <td>2</td>\n",
       "      <td>760073</td>\n",
       "      <td>760160</td>\n",
       "      <td>87</td>\n",
       "      <td>Input</td>\n",
       "      <td>Space</td>\n",
       "      <td>Space</td>\n",
       "      <td></td>\n",
       "      <td>1</td>\n",
       "      <td>0</td>\n",
       "    </tr>\n",
       "    <tr>\n",
       "      <th>2</th>\n",
       "      <td>2222bbbb</td>\n",
       "      <td>1</td>\n",
       "      <td>711956</td>\n",
       "      <td>712023</td>\n",
       "      <td>67</td>\n",
       "      <td>Input</td>\n",
       "      <td>q</td>\n",
       "      <td>q</td>\n",
       "      <td>q</td>\n",
       "      <td>0</td>\n",
       "      <td>1</td>\n",
       "    </tr>\n",
       "    <tr>\n",
       "      <th>3</th>\n",
       "      <td>2222bbbb</td>\n",
       "      <td>2</td>\n",
       "      <td>290502</td>\n",
       "      <td>290548</td>\n",
       "      <td>46</td>\n",
       "      <td>Input</td>\n",
       "      <td>q</td>\n",
       "      <td>q</td>\n",
       "      <td>q</td>\n",
       "      <td>1</td>\n",
       "      <td>1</td>\n",
       "    </tr>\n",
       "    <tr>\n",
       "      <th>4</th>\n",
       "      <td>4444cccc</td>\n",
       "      <td>1</td>\n",
       "      <td>635547</td>\n",
       "      <td>635641</td>\n",
       "      <td>94</td>\n",
       "      <td>Input</td>\n",
       "      <td>Space</td>\n",
       "      <td>Space</td>\n",
       "      <td></td>\n",
       "      <td>0</td>\n",
       "      <td>0</td>\n",
       "    </tr>\n",
       "    <tr>\n",
       "      <th>5</th>\n",
       "      <td>4444cccc</td>\n",
       "      <td>2</td>\n",
       "      <td>184996</td>\n",
       "      <td>185052</td>\n",
       "      <td>56</td>\n",
       "      <td>Input</td>\n",
       "      <td>q</td>\n",
       "      <td>q</td>\n",
       "      <td>q</td>\n",
       "      <td>1</td>\n",
       "      <td>1</td>\n",
       "    </tr>\n",
       "  </tbody>\n",
       "</table>\n",
       "</div>"
      ],
      "text/plain": [
       "         id  event_id  down_time  up_time  action_time activity down_event  \\\n",
       "0  0000aaaa         1     338433   338518           85    Input      Space   \n",
       "1  0000aaaa         2     760073   760160           87    Input      Space   \n",
       "2  2222bbbb         1     711956   712023           67    Input          q   \n",
       "3  2222bbbb         2     290502   290548           46    Input          q   \n",
       "4  4444cccc         1     635547   635641           94    Input      Space   \n",
       "5  4444cccc         2     184996   185052           56    Input          q   \n",
       "\n",
       "  up_event text_change  cursor_position  word_count  \n",
       "0    Space                            0           0  \n",
       "1    Space                            1           0  \n",
       "2        q           q                0           1  \n",
       "3        q           q                1           1  \n",
       "4    Space                            0           0  \n",
       "5        q           q                1           1  "
      ]
     },
     "execution_count": 6,
     "metadata": {},
     "output_type": "execute_result"
    }
   ],
   "source": [
    "test_logs"
   ]
  },
  {
   "cell_type": "code",
   "execution_count": 7,
   "id": "e86ab240-af1a-41e8-bb85-54d3e516638e",
   "metadata": {},
   "outputs": [
    {
     "data": {
      "text/plain": [
       "count     8405898\n",
       "unique         50\n",
       "top         Input\n",
       "freq      6726796\n",
       "Name: activity, dtype: object"
      ]
     },
     "execution_count": 7,
     "metadata": {},
     "output_type": "execute_result"
    }
   ],
   "source": [
    "train_data[\"activity\"].describe()"
   ]
  },
  {
   "cell_type": "code",
   "execution_count": 8,
   "id": "134b8771-497c-4d87-adbc-c018041f3b2b",
   "metadata": {},
   "outputs": [
    {
     "data": {
      "text/html": [
       "<div>\n",
       "<style scoped>\n",
       "    .dataframe tbody tr th:only-of-type {\n",
       "        vertical-align: middle;\n",
       "    }\n",
       "\n",
       "    .dataframe tbody tr th {\n",
       "        vertical-align: top;\n",
       "    }\n",
       "\n",
       "    .dataframe thead th {\n",
       "        text-align: right;\n",
       "    }\n",
       "</style>\n",
       "<table border=\"1\" class=\"dataframe\">\n",
       "  <thead>\n",
       "    <tr style=\"text-align: right;\">\n",
       "      <th></th>\n",
       "      <th>id</th>\n",
       "      <th>event_id</th>\n",
       "      <th>down_time</th>\n",
       "      <th>up_time</th>\n",
       "      <th>action_time</th>\n",
       "      <th>activity</th>\n",
       "      <th>down_event</th>\n",
       "      <th>up_event</th>\n",
       "      <th>text_change</th>\n",
       "      <th>cursor_position</th>\n",
       "      <th>word_count</th>\n",
       "      <th>score</th>\n",
       "    </tr>\n",
       "  </thead>\n",
       "  <tbody>\n",
       "    <tr>\n",
       "      <th>0</th>\n",
       "      <td>001519c8</td>\n",
       "      <td>1</td>\n",
       "      <td>4526</td>\n",
       "      <td>4557</td>\n",
       "      <td>31</td>\n",
       "      <td>Nonproduction</td>\n",
       "      <td>Leftclick</td>\n",
       "      <td>Leftclick</td>\n",
       "      <td>NoChange</td>\n",
       "      <td>0</td>\n",
       "      <td>0</td>\n",
       "      <td>3.5</td>\n",
       "    </tr>\n",
       "    <tr>\n",
       "      <th>1</th>\n",
       "      <td>001519c8</td>\n",
       "      <td>2</td>\n",
       "      <td>4558</td>\n",
       "      <td>4962</td>\n",
       "      <td>404</td>\n",
       "      <td>Nonproduction</td>\n",
       "      <td>Leftclick</td>\n",
       "      <td>Leftclick</td>\n",
       "      <td>NoChange</td>\n",
       "      <td>0</td>\n",
       "      <td>0</td>\n",
       "      <td>3.5</td>\n",
       "    </tr>\n",
       "    <tr>\n",
       "      <th>2</th>\n",
       "      <td>001519c8</td>\n",
       "      <td>3</td>\n",
       "      <td>106571</td>\n",
       "      <td>106571</td>\n",
       "      <td>0</td>\n",
       "      <td>Nonproduction</td>\n",
       "      <td>Shift</td>\n",
       "      <td>Shift</td>\n",
       "      <td>NoChange</td>\n",
       "      <td>0</td>\n",
       "      <td>0</td>\n",
       "      <td>3.5</td>\n",
       "    </tr>\n",
       "    <tr>\n",
       "      <th>3</th>\n",
       "      <td>001519c8</td>\n",
       "      <td>4</td>\n",
       "      <td>106686</td>\n",
       "      <td>106777</td>\n",
       "      <td>91</td>\n",
       "      <td>Input</td>\n",
       "      <td>q</td>\n",
       "      <td>q</td>\n",
       "      <td>q</td>\n",
       "      <td>1</td>\n",
       "      <td>1</td>\n",
       "      <td>3.5</td>\n",
       "    </tr>\n",
       "    <tr>\n",
       "      <th>4</th>\n",
       "      <td>001519c8</td>\n",
       "      <td>5</td>\n",
       "      <td>107196</td>\n",
       "      <td>107323</td>\n",
       "      <td>127</td>\n",
       "      <td>Input</td>\n",
       "      <td>q</td>\n",
       "      <td>q</td>\n",
       "      <td>q</td>\n",
       "      <td>2</td>\n",
       "      <td>1</td>\n",
       "      <td>3.5</td>\n",
       "    </tr>\n",
       "    <tr>\n",
       "      <th>...</th>\n",
       "      <td>...</td>\n",
       "      <td>...</td>\n",
       "      <td>...</td>\n",
       "      <td>...</td>\n",
       "      <td>...</td>\n",
       "      <td>...</td>\n",
       "      <td>...</td>\n",
       "      <td>...</td>\n",
       "      <td>...</td>\n",
       "      <td>...</td>\n",
       "      <td>...</td>\n",
       "      <td>...</td>\n",
       "    </tr>\n",
       "    <tr>\n",
       "      <th>2552</th>\n",
       "      <td>001519c8</td>\n",
       "      <td>2553</td>\n",
       "      <td>1781786</td>\n",
       "      <td>1781841</td>\n",
       "      <td>55</td>\n",
       "      <td>Remove/Cut</td>\n",
       "      <td>Backspace</td>\n",
       "      <td>Backspace</td>\n",
       "      <td>q</td>\n",
       "      <td>555</td>\n",
       "      <td>255</td>\n",
       "      <td>3.5</td>\n",
       "    </tr>\n",
       "    <tr>\n",
       "      <th>2553</th>\n",
       "      <td>001519c8</td>\n",
       "      <td>2554</td>\n",
       "      <td>1781917</td>\n",
       "      <td>1781991</td>\n",
       "      <td>74</td>\n",
       "      <td>Remove/Cut</td>\n",
       "      <td>Backspace</td>\n",
       "      <td>Backspace</td>\n",
       "      <td>q</td>\n",
       "      <td>554</td>\n",
       "      <td>255</td>\n",
       "      <td>3.5</td>\n",
       "    </tr>\n",
       "    <tr>\n",
       "      <th>2554</th>\n",
       "      <td>001519c8</td>\n",
       "      <td>2555</td>\n",
       "      <td>1782062</td>\n",
       "      <td>1782141</td>\n",
       "      <td>79</td>\n",
       "      <td>Remove/Cut</td>\n",
       "      <td>Backspace</td>\n",
       "      <td>Backspace</td>\n",
       "      <td>q</td>\n",
       "      <td>553</td>\n",
       "      <td>255</td>\n",
       "      <td>3.5</td>\n",
       "    </tr>\n",
       "    <tr>\n",
       "      <th>2555</th>\n",
       "      <td>001519c8</td>\n",
       "      <td>2556</td>\n",
       "      <td>1782922</td>\n",
       "      <td>1782985</td>\n",
       "      <td>63</td>\n",
       "      <td>Input</td>\n",
       "      <td>q</td>\n",
       "      <td>q</td>\n",
       "      <td>q</td>\n",
       "      <td>554</td>\n",
       "      <td>255</td>\n",
       "      <td>3.5</td>\n",
       "    </tr>\n",
       "    <tr>\n",
       "      <th>2556</th>\n",
       "      <td>001519c8</td>\n",
       "      <td>2557</td>\n",
       "      <td>1801877</td>\n",
       "      <td>1801969</td>\n",
       "      <td>92</td>\n",
       "      <td>Nonproduction</td>\n",
       "      <td>Leftclick</td>\n",
       "      <td>Leftclick</td>\n",
       "      <td>NoChange</td>\n",
       "      <td>1046</td>\n",
       "      <td>255</td>\n",
       "      <td>3.5</td>\n",
       "    </tr>\n",
       "  </tbody>\n",
       "</table>\n",
       "<p>2557 rows × 12 columns</p>\n",
       "</div>"
      ],
      "text/plain": [
       "            id  event_id  down_time  up_time  action_time       activity  \\\n",
       "0     001519c8         1       4526     4557           31  Nonproduction   \n",
       "1     001519c8         2       4558     4962          404  Nonproduction   \n",
       "2     001519c8         3     106571   106571            0  Nonproduction   \n",
       "3     001519c8         4     106686   106777           91          Input   \n",
       "4     001519c8         5     107196   107323          127          Input   \n",
       "...        ...       ...        ...      ...          ...            ...   \n",
       "2552  001519c8      2553    1781786  1781841           55     Remove/Cut   \n",
       "2553  001519c8      2554    1781917  1781991           74     Remove/Cut   \n",
       "2554  001519c8      2555    1782062  1782141           79     Remove/Cut   \n",
       "2555  001519c8      2556    1782922  1782985           63          Input   \n",
       "2556  001519c8      2557    1801877  1801969           92  Nonproduction   \n",
       "\n",
       "     down_event   up_event text_change  cursor_position  word_count  score  \n",
       "0     Leftclick  Leftclick    NoChange                0           0    3.5  \n",
       "1     Leftclick  Leftclick    NoChange                0           0    3.5  \n",
       "2         Shift      Shift    NoChange                0           0    3.5  \n",
       "3             q          q           q                1           1    3.5  \n",
       "4             q          q           q                2           1    3.5  \n",
       "...         ...        ...         ...              ...         ...    ...  \n",
       "2552  Backspace  Backspace           q              555         255    3.5  \n",
       "2553  Backspace  Backspace           q              554         255    3.5  \n",
       "2554  Backspace  Backspace           q              553         255    3.5  \n",
       "2555          q          q           q              554         255    3.5  \n",
       "2556  Leftclick  Leftclick    NoChange             1046         255    3.5  \n",
       "\n",
       "[2557 rows x 12 columns]"
      ]
     },
     "execution_count": 8,
     "metadata": {},
     "output_type": "execute_result"
    }
   ],
   "source": [
    "train_data[train_data[\"id\"]==\"001519c8\"]"
   ]
  },
  {
   "cell_type": "code",
   "execution_count": 9,
   "id": "7a980827-40b7-45a8-a900-8b0811473ab8",
   "metadata": {},
   "outputs": [
    {
     "name": "stdout",
     "output_type": "stream",
     "text": [
      "['Nonproduction' 'Input' 'Remove/Cut' 'Replace'\n",
      " 'Move From [284, 292] To [282, 290]' 'Move From [287, 289] To [285, 287]'\n",
      " 'Move From [460, 461] To [465, 466]' 'Paste'\n",
      " 'Move From [905, 1314] To [907, 1316]'\n",
      " 'Move From [565, 743] To [669, 847]' 'Move From [669, 847] To [565, 743]'\n",
      " 'Move From [1041, 1121] To [1496, 1576]'\n",
      " 'Move From [1455, 1557] To [1323, 1425]'\n",
      " 'Move From [2268, 2275] To [2247, 2254]'\n",
      " 'Move From [213, 302] To [902, 991]' 'Move From [0, 158] To [234, 392]'\n",
      " 'Move From [460, 465] To [925, 930]' 'Move From [810, 906] To [816, 912]'\n",
      " 'Move From [186, 187] To [184, 185]' 'Move From [140, 272] To [299, 431]'\n",
      " 'Move From [114, 140] To [272, 298]'\n",
      " 'Move From [1386, 1450] To [1445, 1509]'\n",
      " 'Move From [442, 524] To [296, 378]' 'Move From [408, 414] To [390, 396]'\n",
      " 'Move From [1144, 1147] To [1142, 1145]'\n",
      " 'Move From [218, 220] To [206, 208]' 'Move From [164, 165] To [153, 154]'\n",
      " 'Move From [623, 632] To [624, 633]'\n",
      " 'Move From [747, 960] To [1041, 1254]'\n",
      " 'Move From [274, 314] To [299, 339]' 'Move From [624, 625] To [845, 846]'\n",
      " 'Move From [1861, 2063] To [1766, 1968]'\n",
      " 'Move From [1766, 1968] To [1861, 2063]'\n",
      " 'Move From [2091, 2179] To [252, 340]'\n",
      " 'Move From [923, 1077] To [340, 494]' 'Move From [0, 1] To [590, 591]'\n",
      " 'Move From [999, 1000] To [1000, 1001]' 'Move From [13, 65] To [9, 61]'\n",
      " 'Move From [1651, 1769] To [1565, 1683]' 'Move From [61, 136] To [0, 75]'\n",
      " 'Move From [0, 75] To [1, 76]' 'Move From [75, 134] To [304, 363]'\n",
      " 'Move From [289, 355] To [562, 628]'\n",
      " 'Move From [944, 1102] To [1050, 1208]'\n",
      " 'Move From [1306, 1371] To [1061, 1126]'\n",
      " 'Move From [1061, 1126] To [1306, 1371]'\n",
      " 'Move From [1361, 1362] To [1358, 1359]'\n",
      " 'Move From [51, 86] To [109, 144]' 'Move From [134, 169] To [122, 157]'\n",
      " 'Move From [382, 437] To [458, 513]']\n"
     ]
    }
   ],
   "source": [
    "print(train_data[\"activity\"].unique())"
   ]
  },
  {
   "cell_type": "code",
   "execution_count": 10,
   "id": "86b2eea2-8539-470d-a93e-c7647e51914e",
   "metadata": {},
   "outputs": [],
   "source": [
    "def feature_eng(df) :\n",
    "    df_train  = df[[\"id\",\"down_time\",]].groupby(\"id\").min()\n",
    "    df_temp   = df[[\"id\",\"up_time\",]].groupby(\"id\").max()\n",
    "    df_train  = pd.merge(df_train, df_temp, on=\"id\", how=\"left\")\n",
    "    df_temp   = df[[\"id\",\"action_time\",]].groupby(\"id\").sum()\n",
    "    df_train  = pd.merge(df_train, df_temp, on=\"id\", how=\"left\")\n",
    "    df_temp   = df[[\"id\",\"word_count\",]].groupby(\"id\").max()\n",
    "    df_train  = pd.merge(df_train, df_temp, on=\"id\", how=\"left\")\n",
    "        \n",
    "    df[\"activity\"] = df[\"activity\"].str[:4]\n",
    "    df[\"Inpu\"] = df[\"activity\"].apply(lambda x:1 if x==\"Inpu\" else 0)\n",
    "    df[\"Move\"] = df[\"activity\"].apply(lambda x:1 if x==\"Move\" else 0)\n",
    "    df[\"Nonp\"] = df[\"activity\"].apply(lambda x:1 if x==\"Nonp\" else 0)\n",
    "    df[\"Past\"] = df[\"activity\"].apply(lambda x:1 if x==\"Past\" else 0)\n",
    "    df[\"Remo\"] = df[\"activity\"].apply(lambda x:1 if x==\"Remo\" else 0)\n",
    "    df[\"Repl\"] = df[\"activity\"].apply(lambda x:1 if x==\"Repl\" else 0)\n",
    "    \n",
    "    df_temp = df[[\"id\",\"Inpu\",\"Move\",\"Nonp\",\"Past\",\"Remo\",\"Repl\"]].groupby(\"id\").sum()\n",
    "    df_train  = pd.merge(df_train, df_temp, on=\"id\", how=\"left\")\n",
    "    \n",
    "    df[\"Space\"]     = df[\"up_event\"].apply(lambda x:1 if x==\"Space\" else 0)\n",
    "    df[\"Backspace\"] = df[\"up_event\"].apply(lambda x:1 if x==\"Backspace\" else 0)\n",
    "    df[\"Delete\"]    = df[\"up_event\"].apply(lambda x:1 if x==\"Delete\" else 0)\n",
    "    df[\"Control\"]   = df[\"up_event\"].apply(lambda x:1 if x==\"Control\" else 0)\n",
    "    df[\"Enter\"]     = df[\"up_event\"].apply(lambda x:1 if x==\"Enter\" else 0)\n",
    "    \n",
    "    df_temp   = df[[\"id\",\"Space\",\"Backspace\",\"Delete\",\"Control\",\"Enter\"]].groupby(\"id\").sum()\n",
    "    df_train  = pd.merge(df_train, df_temp, on=\"id\", how=\"left\")\n",
    "    \n",
    "    df_temp   = df[[\"id\",\"cursor_position\",]].groupby(\"id\").max()\n",
    "    df_temp   = df[[\"id\",\"cursor_position\",]].groupby(\"id\").mean()\n",
    "    df_temp   = df[[\"id\",\"word_count\",]].groupby(\"id\").mean()\n",
    "    \n",
    "    df_temp   = df[[\"id\",\"cursor_position\",]].groupby(\"id\").max()\n",
    "    df_temp   = df[[\"id\",\"cursor_position\",]].groupby(\"id\").mean()\n",
    "    df_temp   = df[[\"id\",\"word_count\",]].groupby(\"id\").mean()\n",
    "    \n",
    "    \n",
    "    \n",
    "    \n",
    "    return df_train"
   ]
  },
  {
   "cell_type": "code",
   "execution_count": 11,
   "id": "801eabfd-34d5-44f5-833c-086ac6cf1054",
   "metadata": {},
   "outputs": [],
   "source": [
    "train_df = feature_eng(train_data)"
   ]
  },
  {
   "cell_type": "code",
   "execution_count": 12,
   "id": "4ed50fba-c336-466b-b8f0-6301f10bd851",
   "metadata": {},
   "outputs": [],
   "source": [
    "train_df.to_csv(\"train_df_added_data.csv\", index = False)"
   ]
  },
  {
   "cell_type": "code",
   "execution_count": 13,
   "id": "26d5077a-a016-426d-b2fc-505f692eb944",
   "metadata": {},
   "outputs": [],
   "source": [
    "train_df = pd.read_csv(\"train_df_added_data.csv\")"
   ]
  },
  {
   "cell_type": "code",
   "execution_count": 14,
   "id": "47f190a8-6283-4848-b70a-db7a777aada9",
   "metadata": {
    "tags": []
   },
   "outputs": [],
   "source": [
    "train_scores.drop(\"id\", axis = 1, inplace = True)"
   ]
  },
  {
   "cell_type": "markdown",
   "id": "e165da35-9c08-4bd4-a0aa-a32e65cc8fc8",
   "metadata": {},
   "source": [
    "## Multiple Models"
   ]
  },
  {
   "cell_type": "code",
   "execution_count": 15,
   "id": "b9be18de-1e3b-47be-9be3-e6aba9461852",
   "metadata": {
    "tags": []
   },
   "outputs": [],
   "source": [
    "params = {'reg_alpha': 0.007678095440286993, \n",
    "               'reg_lambda': 0.34230534302168353, \n",
    "               'colsample_bytree': 0.627061253588415, \n",
    "               'subsample': 0.854942238828458, \n",
    "               'learning_rate': 0.038697981947473245, \n",
    "               'num_leaves': 22, \n",
    "               'max_depth': 37, \n",
    "               'min_child_samples': 18,\n",
    "               'n_estimators': 150,\n",
    "               \"objective\": \"regression\",\n",
    "               \"metric\": \"rmse\",\n",
    "               \"verbosity\": 0,\n",
    "              }"
   ]
  },
  {
   "cell_type": "code",
   "execution_count": 16,
   "id": "96a6ebf6-330b-4462-9170-4330954d0810",
   "metadata": {
    "tags": []
   },
   "outputs": [],
   "source": [
    "model1 = lgbm.LGBMRegressor(**params)\n",
    "    \n",
    "model2 = cb.CatBoostRegressor(iterations=1000,\n",
    "                                 learning_rate=0.1,\n",
    "                                 depth=6,\n",
    "                                 eval_metric='RMSE',\n",
    "                                 bagging_temperature = 0.2,\n",
    "                                 od_type='Iter',\n",
    "                                 metric_period = 50,\n",
    "                                 od_wait=20,\n",
    "                                 verbose=False)\n",
    "    \n",
    "model3 = sklearn.svm.SVR(kernel='rbf', C=1.0, epsilon=0.1)\n",
    "    \n",
    "model4 = sklearn.neighbors.KNeighborsRegressor(n_neighbors=25, \n",
    "                                                    weights='distance', \n",
    "                                                    algorithm='auto', \n",
    "                                                    leaf_size=20, \n",
    "                                                    p=1, \n",
    "                                                    metric='minkowski', \n",
    "                                                    metric_params=None, \n",
    "                                                    n_jobs=-1)"
   ]
  },
  {
   "cell_type": "code",
   "execution_count": 18,
   "id": "4b5cb864-e60b-4daa-a85e-c0cc0c0cf87a",
   "metadata": {},
   "outputs": [],
   "source": [
    "x = train_df\n",
    "y = train_scores"
   ]
  },
  {
   "cell_type": "code",
   "execution_count": 25,
   "id": "62d692c1-e519-42bf-b6e8-e41ea3b6845a",
   "metadata": {
    "tags": []
   },
   "outputs": [],
   "source": [
    "from sklearn.model_selection import train_test_split"
   ]
  },
  {
   "cell_type": "code",
   "execution_count": 26,
   "id": "4ae38a27-b823-4fd8-bc8b-94101e78901d",
   "metadata": {
    "tags": []
   },
   "outputs": [],
   "source": [
    "X_train, X_test, y_train, y_test = train_test_split(x, y)"
   ]
  },
  {
   "cell_type": "code",
   "execution_count": null,
   "id": "c2fd29f1-b5e1-4094-84d5-d11ea31839e4",
   "metadata": {},
   "outputs": [],
   "source": []
  },
  {
   "cell_type": "code",
   "execution_count": null,
   "id": "8586e9e1-a403-4c09-8896-8934290e6582",
   "metadata": {},
   "outputs": [],
   "source": []
  },
  {
   "cell_type": "code",
   "execution_count": 27,
   "id": "b3ef4437-7b04-42d8-bb6a-8d52dc89333a",
   "metadata": {
    "tags": []
   },
   "outputs": [
    {
     "name": "stdout",
     "output_type": "stream",
     "text": [
      "[LightGBM] [Warning] Auto-choosing col-wise multi-threading, the overhead of testing was 0.000971 seconds.\n",
      "You can set `force_col_wise=true` to remove the overhead.\n"
     ]
    },
    {
     "data": {
      "text/html": [
       "<style>#sk-container-id-4 {color: black;}#sk-container-id-4 pre{padding: 0;}#sk-container-id-4 div.sk-toggleable {background-color: white;}#sk-container-id-4 label.sk-toggleable__label {cursor: pointer;display: block;width: 100%;margin-bottom: 0;padding: 0.3em;box-sizing: border-box;text-align: center;}#sk-container-id-4 label.sk-toggleable__label-arrow:before {content: \"▸\";float: left;margin-right: 0.25em;color: #696969;}#sk-container-id-4 label.sk-toggleable__label-arrow:hover:before {color: black;}#sk-container-id-4 div.sk-estimator:hover label.sk-toggleable__label-arrow:before {color: black;}#sk-container-id-4 div.sk-toggleable__content {max-height: 0;max-width: 0;overflow: hidden;text-align: left;background-color: #f0f8ff;}#sk-container-id-4 div.sk-toggleable__content pre {margin: 0.2em;color: black;border-radius: 0.25em;background-color: #f0f8ff;}#sk-container-id-4 input.sk-toggleable__control:checked~div.sk-toggleable__content {max-height: 200px;max-width: 100%;overflow: auto;}#sk-container-id-4 input.sk-toggleable__control:checked~label.sk-toggleable__label-arrow:before {content: \"▾\";}#sk-container-id-4 div.sk-estimator input.sk-toggleable__control:checked~label.sk-toggleable__label {background-color: #d4ebff;}#sk-container-id-4 div.sk-label input.sk-toggleable__control:checked~label.sk-toggleable__label {background-color: #d4ebff;}#sk-container-id-4 input.sk-hidden--visually {border: 0;clip: rect(1px 1px 1px 1px);clip: rect(1px, 1px, 1px, 1px);height: 1px;margin: -1px;overflow: hidden;padding: 0;position: absolute;width: 1px;}#sk-container-id-4 div.sk-estimator {font-family: monospace;background-color: #f0f8ff;border: 1px dotted black;border-radius: 0.25em;box-sizing: border-box;margin-bottom: 0.5em;}#sk-container-id-4 div.sk-estimator:hover {background-color: #d4ebff;}#sk-container-id-4 div.sk-parallel-item::after {content: \"\";width: 100%;border-bottom: 1px solid gray;flex-grow: 1;}#sk-container-id-4 div.sk-label:hover label.sk-toggleable__label {background-color: #d4ebff;}#sk-container-id-4 div.sk-serial::before {content: \"\";position: absolute;border-left: 1px solid gray;box-sizing: border-box;top: 0;bottom: 0;left: 50%;z-index: 0;}#sk-container-id-4 div.sk-serial {display: flex;flex-direction: column;align-items: center;background-color: white;padding-right: 0.2em;padding-left: 0.2em;position: relative;}#sk-container-id-4 div.sk-item {position: relative;z-index: 1;}#sk-container-id-4 div.sk-parallel {display: flex;align-items: stretch;justify-content: center;background-color: white;position: relative;}#sk-container-id-4 div.sk-item::before, #sk-container-id-4 div.sk-parallel-item::before {content: \"\";position: absolute;border-left: 1px solid gray;box-sizing: border-box;top: 0;bottom: 0;left: 50%;z-index: -1;}#sk-container-id-4 div.sk-parallel-item {display: flex;flex-direction: column;z-index: 1;position: relative;background-color: white;}#sk-container-id-4 div.sk-parallel-item:first-child::after {align-self: flex-end;width: 50%;}#sk-container-id-4 div.sk-parallel-item:last-child::after {align-self: flex-start;width: 50%;}#sk-container-id-4 div.sk-parallel-item:only-child::after {width: 0;}#sk-container-id-4 div.sk-dashed-wrapped {border: 1px dashed gray;margin: 0 0.4em 0.5em 0.4em;box-sizing: border-box;padding-bottom: 0.4em;background-color: white;}#sk-container-id-4 div.sk-label label {font-family: monospace;font-weight: bold;display: inline-block;line-height: 1.2em;}#sk-container-id-4 div.sk-label-container {text-align: center;}#sk-container-id-4 div.sk-container {/* jupyter's `normalize.less` sets `[hidden] { display: none; }` but bootstrap.min.css set `[hidden] { display: none !important; }` so we also need the `!important` here to be able to override the default hidden behavior on the sphinx rendered scikit-learn.org. See: https://github.com/scikit-learn/scikit-learn/issues/21755 */display: inline-block !important;position: relative;}#sk-container-id-4 div.sk-text-repr-fallback {display: none;}</style><div id=\"sk-container-id-4\" class=\"sk-top-container\"><div class=\"sk-text-repr-fallback\"><pre>LGBMRegressor(colsample_bytree=0.627061253588415,\n",
       "              learning_rate=0.038697981947473245, max_depth=37, metric=&#x27;rmse&#x27;,\n",
       "              min_child_samples=18, n_estimators=150, num_leaves=22,\n",
       "              objective=&#x27;regression&#x27;, reg_alpha=0.007678095440286993,\n",
       "              reg_lambda=0.34230534302168353, subsample=0.854942238828458,\n",
       "              verbosity=0)</pre><b>In a Jupyter environment, please rerun this cell to show the HTML representation or trust the notebook. <br />On GitHub, the HTML representation is unable to render, please try loading this page with nbviewer.org.</b></div><div class=\"sk-container\" hidden><div class=\"sk-item\"><div class=\"sk-estimator sk-toggleable\"><input class=\"sk-toggleable__control sk-hidden--visually\" id=\"sk-estimator-id-4\" type=\"checkbox\" checked><label for=\"sk-estimator-id-4\" class=\"sk-toggleable__label sk-toggleable__label-arrow\">LGBMRegressor</label><div class=\"sk-toggleable__content\"><pre>LGBMRegressor(colsample_bytree=0.627061253588415,\n",
       "              learning_rate=0.038697981947473245, max_depth=37, metric=&#x27;rmse&#x27;,\n",
       "              min_child_samples=18, n_estimators=150, num_leaves=22,\n",
       "              objective=&#x27;regression&#x27;, reg_alpha=0.007678095440286993,\n",
       "              reg_lambda=0.34230534302168353, subsample=0.854942238828458,\n",
       "              verbosity=0)</pre></div></div></div></div></div>"
      ],
      "text/plain": [
       "LGBMRegressor(colsample_bytree=0.627061253588415,\n",
       "              learning_rate=0.038697981947473245, max_depth=37, metric='rmse',\n",
       "              min_child_samples=18, n_estimators=150, num_leaves=22,\n",
       "              objective='regression', reg_alpha=0.007678095440286993,\n",
       "              reg_lambda=0.34230534302168353, subsample=0.854942238828458,\n",
       "              verbosity=0)"
      ]
     },
     "execution_count": 27,
     "metadata": {},
     "output_type": "execute_result"
    }
   ],
   "source": [
    "#fitting model 1\n",
    "model1.fit(X_train,y_train)"
   ]
  },
  {
   "cell_type": "code",
   "execution_count": 28,
   "id": "19751389-db81-4c76-a860-1a414a6bcd6a",
   "metadata": {
    "tags": []
   },
   "outputs": [
    {
     "data": {
      "text/plain": [
       "<catboost.core.CatBoostRegressor at 0x15cc6da50>"
      ]
     },
     "execution_count": 28,
     "metadata": {},
     "output_type": "execute_result"
    }
   ],
   "source": [
    "#fitting model 2\n",
    "model2.fit(X_train,y_train)"
   ]
  },
  {
   "cell_type": "code",
   "execution_count": 29,
   "id": "2234fe55-2028-4fd3-889f-a71f06e1b1f7",
   "metadata": {
    "tags": []
   },
   "outputs": [
    {
     "name": "stderr",
     "output_type": "stream",
     "text": [
      "/Users/helloworld/anaconda3/lib/python3.11/site-packages/sklearn/utils/validation.py:1184: DataConversionWarning: A column-vector y was passed when a 1d array was expected. Please change the shape of y to (n_samples, ), for example using ravel().\n",
      "  y = column_or_1d(y, warn=True)\n"
     ]
    },
    {
     "data": {
      "text/html": [
       "<style>#sk-container-id-5 {color: black;}#sk-container-id-5 pre{padding: 0;}#sk-container-id-5 div.sk-toggleable {background-color: white;}#sk-container-id-5 label.sk-toggleable__label {cursor: pointer;display: block;width: 100%;margin-bottom: 0;padding: 0.3em;box-sizing: border-box;text-align: center;}#sk-container-id-5 label.sk-toggleable__label-arrow:before {content: \"▸\";float: left;margin-right: 0.25em;color: #696969;}#sk-container-id-5 label.sk-toggleable__label-arrow:hover:before {color: black;}#sk-container-id-5 div.sk-estimator:hover label.sk-toggleable__label-arrow:before {color: black;}#sk-container-id-5 div.sk-toggleable__content {max-height: 0;max-width: 0;overflow: hidden;text-align: left;background-color: #f0f8ff;}#sk-container-id-5 div.sk-toggleable__content pre {margin: 0.2em;color: black;border-radius: 0.25em;background-color: #f0f8ff;}#sk-container-id-5 input.sk-toggleable__control:checked~div.sk-toggleable__content {max-height: 200px;max-width: 100%;overflow: auto;}#sk-container-id-5 input.sk-toggleable__control:checked~label.sk-toggleable__label-arrow:before {content: \"▾\";}#sk-container-id-5 div.sk-estimator input.sk-toggleable__control:checked~label.sk-toggleable__label {background-color: #d4ebff;}#sk-container-id-5 div.sk-label input.sk-toggleable__control:checked~label.sk-toggleable__label {background-color: #d4ebff;}#sk-container-id-5 input.sk-hidden--visually {border: 0;clip: rect(1px 1px 1px 1px);clip: rect(1px, 1px, 1px, 1px);height: 1px;margin: -1px;overflow: hidden;padding: 0;position: absolute;width: 1px;}#sk-container-id-5 div.sk-estimator {font-family: monospace;background-color: #f0f8ff;border: 1px dotted black;border-radius: 0.25em;box-sizing: border-box;margin-bottom: 0.5em;}#sk-container-id-5 div.sk-estimator:hover {background-color: #d4ebff;}#sk-container-id-5 div.sk-parallel-item::after {content: \"\";width: 100%;border-bottom: 1px solid gray;flex-grow: 1;}#sk-container-id-5 div.sk-label:hover label.sk-toggleable__label {background-color: #d4ebff;}#sk-container-id-5 div.sk-serial::before {content: \"\";position: absolute;border-left: 1px solid gray;box-sizing: border-box;top: 0;bottom: 0;left: 50%;z-index: 0;}#sk-container-id-5 div.sk-serial {display: flex;flex-direction: column;align-items: center;background-color: white;padding-right: 0.2em;padding-left: 0.2em;position: relative;}#sk-container-id-5 div.sk-item {position: relative;z-index: 1;}#sk-container-id-5 div.sk-parallel {display: flex;align-items: stretch;justify-content: center;background-color: white;position: relative;}#sk-container-id-5 div.sk-item::before, #sk-container-id-5 div.sk-parallel-item::before {content: \"\";position: absolute;border-left: 1px solid gray;box-sizing: border-box;top: 0;bottom: 0;left: 50%;z-index: -1;}#sk-container-id-5 div.sk-parallel-item {display: flex;flex-direction: column;z-index: 1;position: relative;background-color: white;}#sk-container-id-5 div.sk-parallel-item:first-child::after {align-self: flex-end;width: 50%;}#sk-container-id-5 div.sk-parallel-item:last-child::after {align-self: flex-start;width: 50%;}#sk-container-id-5 div.sk-parallel-item:only-child::after {width: 0;}#sk-container-id-5 div.sk-dashed-wrapped {border: 1px dashed gray;margin: 0 0.4em 0.5em 0.4em;box-sizing: border-box;padding-bottom: 0.4em;background-color: white;}#sk-container-id-5 div.sk-label label {font-family: monospace;font-weight: bold;display: inline-block;line-height: 1.2em;}#sk-container-id-5 div.sk-label-container {text-align: center;}#sk-container-id-5 div.sk-container {/* jupyter's `normalize.less` sets `[hidden] { display: none; }` but bootstrap.min.css set `[hidden] { display: none !important; }` so we also need the `!important` here to be able to override the default hidden behavior on the sphinx rendered scikit-learn.org. See: https://github.com/scikit-learn/scikit-learn/issues/21755 */display: inline-block !important;position: relative;}#sk-container-id-5 div.sk-text-repr-fallback {display: none;}</style><div id=\"sk-container-id-5\" class=\"sk-top-container\"><div class=\"sk-text-repr-fallback\"><pre>SVR()</pre><b>In a Jupyter environment, please rerun this cell to show the HTML representation or trust the notebook. <br />On GitHub, the HTML representation is unable to render, please try loading this page with nbviewer.org.</b></div><div class=\"sk-container\" hidden><div class=\"sk-item\"><div class=\"sk-estimator sk-toggleable\"><input class=\"sk-toggleable__control sk-hidden--visually\" id=\"sk-estimator-id-5\" type=\"checkbox\" checked><label for=\"sk-estimator-id-5\" class=\"sk-toggleable__label sk-toggleable__label-arrow\">SVR</label><div class=\"sk-toggleable__content\"><pre>SVR()</pre></div></div></div></div></div>"
      ],
      "text/plain": [
       "SVR()"
      ]
     },
     "execution_count": 29,
     "metadata": {},
     "output_type": "execute_result"
    }
   ],
   "source": [
    "#fitting model 3\n",
    "model3.fit(X_train,y_train)"
   ]
  },
  {
   "cell_type": "code",
   "execution_count": 30,
   "id": "f4ff8028-9233-4278-a02d-a46488100131",
   "metadata": {
    "tags": []
   },
   "outputs": [
    {
     "data": {
      "text/html": [
       "<style>#sk-container-id-6 {color: black;}#sk-container-id-6 pre{padding: 0;}#sk-container-id-6 div.sk-toggleable {background-color: white;}#sk-container-id-6 label.sk-toggleable__label {cursor: pointer;display: block;width: 100%;margin-bottom: 0;padding: 0.3em;box-sizing: border-box;text-align: center;}#sk-container-id-6 label.sk-toggleable__label-arrow:before {content: \"▸\";float: left;margin-right: 0.25em;color: #696969;}#sk-container-id-6 label.sk-toggleable__label-arrow:hover:before {color: black;}#sk-container-id-6 div.sk-estimator:hover label.sk-toggleable__label-arrow:before {color: black;}#sk-container-id-6 div.sk-toggleable__content {max-height: 0;max-width: 0;overflow: hidden;text-align: left;background-color: #f0f8ff;}#sk-container-id-6 div.sk-toggleable__content pre {margin: 0.2em;color: black;border-radius: 0.25em;background-color: #f0f8ff;}#sk-container-id-6 input.sk-toggleable__control:checked~div.sk-toggleable__content {max-height: 200px;max-width: 100%;overflow: auto;}#sk-container-id-6 input.sk-toggleable__control:checked~label.sk-toggleable__label-arrow:before {content: \"▾\";}#sk-container-id-6 div.sk-estimator input.sk-toggleable__control:checked~label.sk-toggleable__label {background-color: #d4ebff;}#sk-container-id-6 div.sk-label input.sk-toggleable__control:checked~label.sk-toggleable__label {background-color: #d4ebff;}#sk-container-id-6 input.sk-hidden--visually {border: 0;clip: rect(1px 1px 1px 1px);clip: rect(1px, 1px, 1px, 1px);height: 1px;margin: -1px;overflow: hidden;padding: 0;position: absolute;width: 1px;}#sk-container-id-6 div.sk-estimator {font-family: monospace;background-color: #f0f8ff;border: 1px dotted black;border-radius: 0.25em;box-sizing: border-box;margin-bottom: 0.5em;}#sk-container-id-6 div.sk-estimator:hover {background-color: #d4ebff;}#sk-container-id-6 div.sk-parallel-item::after {content: \"\";width: 100%;border-bottom: 1px solid gray;flex-grow: 1;}#sk-container-id-6 div.sk-label:hover label.sk-toggleable__label {background-color: #d4ebff;}#sk-container-id-6 div.sk-serial::before {content: \"\";position: absolute;border-left: 1px solid gray;box-sizing: border-box;top: 0;bottom: 0;left: 50%;z-index: 0;}#sk-container-id-6 div.sk-serial {display: flex;flex-direction: column;align-items: center;background-color: white;padding-right: 0.2em;padding-left: 0.2em;position: relative;}#sk-container-id-6 div.sk-item {position: relative;z-index: 1;}#sk-container-id-6 div.sk-parallel {display: flex;align-items: stretch;justify-content: center;background-color: white;position: relative;}#sk-container-id-6 div.sk-item::before, #sk-container-id-6 div.sk-parallel-item::before {content: \"\";position: absolute;border-left: 1px solid gray;box-sizing: border-box;top: 0;bottom: 0;left: 50%;z-index: -1;}#sk-container-id-6 div.sk-parallel-item {display: flex;flex-direction: column;z-index: 1;position: relative;background-color: white;}#sk-container-id-6 div.sk-parallel-item:first-child::after {align-self: flex-end;width: 50%;}#sk-container-id-6 div.sk-parallel-item:last-child::after {align-self: flex-start;width: 50%;}#sk-container-id-6 div.sk-parallel-item:only-child::after {width: 0;}#sk-container-id-6 div.sk-dashed-wrapped {border: 1px dashed gray;margin: 0 0.4em 0.5em 0.4em;box-sizing: border-box;padding-bottom: 0.4em;background-color: white;}#sk-container-id-6 div.sk-label label {font-family: monospace;font-weight: bold;display: inline-block;line-height: 1.2em;}#sk-container-id-6 div.sk-label-container {text-align: center;}#sk-container-id-6 div.sk-container {/* jupyter's `normalize.less` sets `[hidden] { display: none; }` but bootstrap.min.css set `[hidden] { display: none !important; }` so we also need the `!important` here to be able to override the default hidden behavior on the sphinx rendered scikit-learn.org. See: https://github.com/scikit-learn/scikit-learn/issues/21755 */display: inline-block !important;position: relative;}#sk-container-id-6 div.sk-text-repr-fallback {display: none;}</style><div id=\"sk-container-id-6\" class=\"sk-top-container\"><div class=\"sk-text-repr-fallback\"><pre>KNeighborsRegressor(leaf_size=20, n_jobs=-1, n_neighbors=25, p=1,\n",
       "                    weights=&#x27;distance&#x27;)</pre><b>In a Jupyter environment, please rerun this cell to show the HTML representation or trust the notebook. <br />On GitHub, the HTML representation is unable to render, please try loading this page with nbviewer.org.</b></div><div class=\"sk-container\" hidden><div class=\"sk-item\"><div class=\"sk-estimator sk-toggleable\"><input class=\"sk-toggleable__control sk-hidden--visually\" id=\"sk-estimator-id-6\" type=\"checkbox\" checked><label for=\"sk-estimator-id-6\" class=\"sk-toggleable__label sk-toggleable__label-arrow\">KNeighborsRegressor</label><div class=\"sk-toggleable__content\"><pre>KNeighborsRegressor(leaf_size=20, n_jobs=-1, n_neighbors=25, p=1,\n",
       "                    weights=&#x27;distance&#x27;)</pre></div></div></div></div></div>"
      ],
      "text/plain": [
       "KNeighborsRegressor(leaf_size=20, n_jobs=-1, n_neighbors=25, p=1,\n",
       "                    weights='distance')"
      ]
     },
     "execution_count": 30,
     "metadata": {},
     "output_type": "execute_result"
    }
   ],
   "source": [
    "#fitting model 4\n",
    "model4.fit(X_train,y_train)"
   ]
  },
  {
   "cell_type": "code",
   "execution_count": null,
   "id": "389ea44a-7705-437d-a472-ca5e7378bb58",
   "metadata": {},
   "outputs": [],
   "source": []
  },
  {
   "cell_type": "markdown",
   "id": "73d17d3a-67af-4928-ba67-4d740e5996e9",
   "metadata": {
    "jp-MarkdownHeadingCollapsed": true,
    "tags": []
   },
   "source": [
    "# Submission"
   ]
  },
  {
   "cell_type": "code",
   "execution_count": 38,
   "id": "60d2823a-4a93-4089-b422-8519c5792573",
   "metadata": {},
   "outputs": [],
   "source": [
    "df_test = feature_eng(test_logs)"
   ]
  },
  {
   "cell_type": "code",
   "execution_count": 49,
   "id": "4a6af27d-b8b4-4625-afc9-92749bf976bb",
   "metadata": {
    "tags": []
   },
   "outputs": [
    {
     "data": {
      "text/html": [
       "<div>\n",
       "<style scoped>\n",
       "    .dataframe tbody tr th:only-of-type {\n",
       "        vertical-align: middle;\n",
       "    }\n",
       "\n",
       "    .dataframe tbody tr th {\n",
       "        vertical-align: top;\n",
       "    }\n",
       "\n",
       "    .dataframe thead th {\n",
       "        text-align: right;\n",
       "    }\n",
       "</style>\n",
       "<table border=\"1\" class=\"dataframe\">\n",
       "  <thead>\n",
       "    <tr style=\"text-align: right;\">\n",
       "      <th></th>\n",
       "      <th>id</th>\n",
       "      <th>score</th>\n",
       "    </tr>\n",
       "  </thead>\n",
       "  <tbody>\n",
       "    <tr>\n",
       "      <th>0</th>\n",
       "      <td>0000aaaa</td>\n",
       "      <td>1.0</td>\n",
       "    </tr>\n",
       "    <tr>\n",
       "      <th>1</th>\n",
       "      <td>2222bbbb</td>\n",
       "      <td>2.0</td>\n",
       "    </tr>\n",
       "    <tr>\n",
       "      <th>2</th>\n",
       "      <td>4444cccc</td>\n",
       "      <td>3.0</td>\n",
       "    </tr>\n",
       "  </tbody>\n",
       "</table>\n",
       "</div>"
      ],
      "text/plain": [
       "         id  score\n",
       "0  0000aaaa    1.0\n",
       "1  2222bbbb    2.0\n",
       "2  4444cccc    3.0"
      ]
     },
     "execution_count": 49,
     "metadata": {},
     "output_type": "execute_result"
    }
   ],
   "source": [
    "sample_sub"
   ]
  },
  {
   "cell_type": "code",
   "execution_count": 42,
   "id": "04b6bf08-59a4-414c-bdad-cb86ef13c057",
   "metadata": {
    "tags": []
   },
   "outputs": [
    {
     "data": {
      "text/html": [
       "<div>\n",
       "<style scoped>\n",
       "    .dataframe tbody tr th:only-of-type {\n",
       "        vertical-align: middle;\n",
       "    }\n",
       "\n",
       "    .dataframe tbody tr th {\n",
       "        vertical-align: top;\n",
       "    }\n",
       "\n",
       "    .dataframe thead th {\n",
       "        text-align: right;\n",
       "    }\n",
       "</style>\n",
       "<table border=\"1\" class=\"dataframe\">\n",
       "  <thead>\n",
       "    <tr style=\"text-align: right;\">\n",
       "      <th></th>\n",
       "      <th>down_time</th>\n",
       "      <th>up_time</th>\n",
       "      <th>action_time</th>\n",
       "      <th>word_count</th>\n",
       "      <th>Inpu</th>\n",
       "      <th>Move</th>\n",
       "      <th>Nonp</th>\n",
       "      <th>Past</th>\n",
       "      <th>Remo</th>\n",
       "      <th>Repl</th>\n",
       "      <th>Space</th>\n",
       "      <th>Backspace</th>\n",
       "      <th>Delete</th>\n",
       "      <th>Control</th>\n",
       "      <th>Enter</th>\n",
       "    </tr>\n",
       "    <tr>\n",
       "      <th>id</th>\n",
       "      <th></th>\n",
       "      <th></th>\n",
       "      <th></th>\n",
       "      <th></th>\n",
       "      <th></th>\n",
       "      <th></th>\n",
       "      <th></th>\n",
       "      <th></th>\n",
       "      <th></th>\n",
       "      <th></th>\n",
       "      <th></th>\n",
       "      <th></th>\n",
       "      <th></th>\n",
       "      <th></th>\n",
       "      <th></th>\n",
       "    </tr>\n",
       "  </thead>\n",
       "  <tbody>\n",
       "    <tr>\n",
       "      <th>0000aaaa</th>\n",
       "      <td>338433</td>\n",
       "      <td>760160</td>\n",
       "      <td>172</td>\n",
       "      <td>0</td>\n",
       "      <td>2</td>\n",
       "      <td>0</td>\n",
       "      <td>0</td>\n",
       "      <td>0</td>\n",
       "      <td>0</td>\n",
       "      <td>0</td>\n",
       "      <td>2</td>\n",
       "      <td>0</td>\n",
       "      <td>0</td>\n",
       "      <td>0</td>\n",
       "      <td>0</td>\n",
       "    </tr>\n",
       "    <tr>\n",
       "      <th>2222bbbb</th>\n",
       "      <td>290502</td>\n",
       "      <td>712023</td>\n",
       "      <td>113</td>\n",
       "      <td>1</td>\n",
       "      <td>2</td>\n",
       "      <td>0</td>\n",
       "      <td>0</td>\n",
       "      <td>0</td>\n",
       "      <td>0</td>\n",
       "      <td>0</td>\n",
       "      <td>0</td>\n",
       "      <td>0</td>\n",
       "      <td>0</td>\n",
       "      <td>0</td>\n",
       "      <td>0</td>\n",
       "    </tr>\n",
       "    <tr>\n",
       "      <th>4444cccc</th>\n",
       "      <td>184996</td>\n",
       "      <td>635641</td>\n",
       "      <td>150</td>\n",
       "      <td>1</td>\n",
       "      <td>2</td>\n",
       "      <td>0</td>\n",
       "      <td>0</td>\n",
       "      <td>0</td>\n",
       "      <td>0</td>\n",
       "      <td>0</td>\n",
       "      <td>1</td>\n",
       "      <td>0</td>\n",
       "      <td>0</td>\n",
       "      <td>0</td>\n",
       "      <td>0</td>\n",
       "    </tr>\n",
       "  </tbody>\n",
       "</table>\n",
       "</div>"
      ],
      "text/plain": [
       "          down_time  up_time  action_time  word_count  Inpu  Move  Nonp  Past  \\\n",
       "id                                                                              \n",
       "0000aaaa     338433   760160          172           0     2     0     0     0   \n",
       "2222bbbb     290502   712023          113           1     2     0     0     0   \n",
       "4444cccc     184996   635641          150           1     2     0     0     0   \n",
       "\n",
       "          Remo  Repl  Space  Backspace  Delete  Control  Enter  \n",
       "id                                                              \n",
       "0000aaaa     0     0      2          0       0        0      0  \n",
       "2222bbbb     0     0      0          0       0        0      0  \n",
       "4444cccc     0     0      1          0       0        0      0  "
      ]
     },
     "execution_count": 42,
     "metadata": {},
     "output_type": "execute_result"
    }
   ],
   "source": [
    "df_test"
   ]
  },
  {
   "cell_type": "code",
   "execution_count": 43,
   "id": "d02d99ca-01a3-4ec8-8422-8038395e5e42",
   "metadata": {},
   "outputs": [],
   "source": [
    "predicted_scores = model.predict(df_test)"
   ]
  },
  {
   "cell_type": "code",
   "execution_count": 47,
   "id": "c4c2744b-321a-4506-a3cf-c3fcb9085522",
   "metadata": {
    "tags": []
   },
   "outputs": [
    {
     "data": {
      "text/plain": [
       "array([0.5992953 , 0.60097535, 0.65984699])"
      ]
     },
     "execution_count": 47,
     "metadata": {},
     "output_type": "execute_result"
    }
   ],
   "source": [
    "predicted_scores"
   ]
  },
  {
   "cell_type": "code",
   "execution_count": 45,
   "id": "6c914e8c-2b7f-4720-898e-6b9d0977c1c5",
   "metadata": {
    "tags": []
   },
   "outputs": [
    {
     "data": {
      "text/html": [
       "<div>\n",
       "<style scoped>\n",
       "    .dataframe tbody tr th:only-of-type {\n",
       "        vertical-align: middle;\n",
       "    }\n",
       "\n",
       "    .dataframe tbody tr th {\n",
       "        vertical-align: top;\n",
       "    }\n",
       "\n",
       "    .dataframe thead th {\n",
       "        text-align: right;\n",
       "    }\n",
       "</style>\n",
       "<table border=\"1\" class=\"dataframe\">\n",
       "  <thead>\n",
       "    <tr style=\"text-align: right;\">\n",
       "      <th></th>\n",
       "      <th>down_time</th>\n",
       "      <th>up_time</th>\n",
       "      <th>action_time</th>\n",
       "      <th>word_count</th>\n",
       "      <th>Inpu</th>\n",
       "      <th>Move</th>\n",
       "      <th>Nonp</th>\n",
       "      <th>Past</th>\n",
       "      <th>Remo</th>\n",
       "      <th>Repl</th>\n",
       "      <th>Space</th>\n",
       "      <th>Backspace</th>\n",
       "      <th>Delete</th>\n",
       "      <th>Control</th>\n",
       "      <th>Enter</th>\n",
       "    </tr>\n",
       "    <tr>\n",
       "      <th>id</th>\n",
       "      <th></th>\n",
       "      <th></th>\n",
       "      <th></th>\n",
       "      <th></th>\n",
       "      <th></th>\n",
       "      <th></th>\n",
       "      <th></th>\n",
       "      <th></th>\n",
       "      <th></th>\n",
       "      <th></th>\n",
       "      <th></th>\n",
       "      <th></th>\n",
       "      <th></th>\n",
       "      <th></th>\n",
       "      <th></th>\n",
       "    </tr>\n",
       "  </thead>\n",
       "  <tbody>\n",
       "    <tr>\n",
       "      <th>0000aaaa</th>\n",
       "      <td>338433</td>\n",
       "      <td>760160</td>\n",
       "      <td>172</td>\n",
       "      <td>0</td>\n",
       "      <td>2</td>\n",
       "      <td>0</td>\n",
       "      <td>0</td>\n",
       "      <td>0</td>\n",
       "      <td>0</td>\n",
       "      <td>0</td>\n",
       "      <td>2</td>\n",
       "      <td>0</td>\n",
       "      <td>0</td>\n",
       "      <td>0</td>\n",
       "      <td>0</td>\n",
       "    </tr>\n",
       "    <tr>\n",
       "      <th>2222bbbb</th>\n",
       "      <td>290502</td>\n",
       "      <td>712023</td>\n",
       "      <td>113</td>\n",
       "      <td>1</td>\n",
       "      <td>2</td>\n",
       "      <td>0</td>\n",
       "      <td>0</td>\n",
       "      <td>0</td>\n",
       "      <td>0</td>\n",
       "      <td>0</td>\n",
       "      <td>0</td>\n",
       "      <td>0</td>\n",
       "      <td>0</td>\n",
       "      <td>0</td>\n",
       "      <td>0</td>\n",
       "    </tr>\n",
       "    <tr>\n",
       "      <th>4444cccc</th>\n",
       "      <td>184996</td>\n",
       "      <td>635641</td>\n",
       "      <td>150</td>\n",
       "      <td>1</td>\n",
       "      <td>2</td>\n",
       "      <td>0</td>\n",
       "      <td>0</td>\n",
       "      <td>0</td>\n",
       "      <td>0</td>\n",
       "      <td>0</td>\n",
       "      <td>1</td>\n",
       "      <td>0</td>\n",
       "      <td>0</td>\n",
       "      <td>0</td>\n",
       "      <td>0</td>\n",
       "    </tr>\n",
       "  </tbody>\n",
       "</table>\n",
       "</div>"
      ],
      "text/plain": [
       "          down_time  up_time  action_time  word_count  Inpu  Move  Nonp  Past  \\\n",
       "id                                                                              \n",
       "0000aaaa     338433   760160          172           0     2     0     0     0   \n",
       "2222bbbb     290502   712023          113           1     2     0     0     0   \n",
       "4444cccc     184996   635641          150           1     2     0     0     0   \n",
       "\n",
       "          Remo  Repl  Space  Backspace  Delete  Control  Enter  \n",
       "id                                                              \n",
       "0000aaaa     0     0      2          0       0        0      0  \n",
       "2222bbbb     0     0      0          0       0        0      0  \n",
       "4444cccc     0     0      1          0       0        0      0  "
      ]
     },
     "execution_count": 45,
     "metadata": {},
     "output_type": "execute_result"
    }
   ],
   "source": [
    "df_test"
   ]
  },
  {
   "cell_type": "code",
   "execution_count": 50,
   "id": "54622c64-e873-44fe-bbbc-81e7b1d1c337",
   "metadata": {},
   "outputs": [],
   "source": [
    "submissions_v2 = pd.DataFrame({'id': sample_sub['id'], 'score':predicted_scores})"
   ]
  },
  {
   "cell_type": "code",
   "execution_count": 51,
   "id": "0dc6a586-e39b-4298-ac99-3c00b1bd2526",
   "metadata": {},
   "outputs": [],
   "source": [
    "submissions_v2.to_csv(\"submission.csv\", index = False)"
   ]
  },
  {
   "cell_type": "code",
   "execution_count": 52,
   "id": "966a20e3-4c8d-4ddd-9a74-744917f63fc1",
   "metadata": {},
   "outputs": [
    {
     "data": {
      "text/html": [
       "<div>\n",
       "<style scoped>\n",
       "    .dataframe tbody tr th:only-of-type {\n",
       "        vertical-align: middle;\n",
       "    }\n",
       "\n",
       "    .dataframe tbody tr th {\n",
       "        vertical-align: top;\n",
       "    }\n",
       "\n",
       "    .dataframe thead th {\n",
       "        text-align: right;\n",
       "    }\n",
       "</style>\n",
       "<table border=\"1\" class=\"dataframe\">\n",
       "  <thead>\n",
       "    <tr style=\"text-align: right;\">\n",
       "      <th></th>\n",
       "      <th>id</th>\n",
       "      <th>score</th>\n",
       "    </tr>\n",
       "  </thead>\n",
       "  <tbody>\n",
       "    <tr>\n",
       "      <th>0</th>\n",
       "      <td>0000aaaa</td>\n",
       "      <td>0.599295</td>\n",
       "    </tr>\n",
       "    <tr>\n",
       "      <th>1</th>\n",
       "      <td>2222bbbb</td>\n",
       "      <td>0.600975</td>\n",
       "    </tr>\n",
       "    <tr>\n",
       "      <th>2</th>\n",
       "      <td>4444cccc</td>\n",
       "      <td>0.659847</td>\n",
       "    </tr>\n",
       "  </tbody>\n",
       "</table>\n",
       "</div>"
      ],
      "text/plain": [
       "         id     score\n",
       "0  0000aaaa  0.599295\n",
       "1  2222bbbb  0.600975\n",
       "2  4444cccc  0.659847"
      ]
     },
     "execution_count": 52,
     "metadata": {},
     "output_type": "execute_result"
    }
   ],
   "source": [
    "submissions_v2"
   ]
  }
 ],
 "metadata": {
  "kernelspec": {
   "display_name": "Python 3 (ipykernel)",
   "language": "python",
   "name": "python3"
  },
  "language_info": {
   "codemirror_mode": {
    "name": "ipython",
    "version": 3
   },
   "file_extension": ".py",
   "mimetype": "text/x-python",
   "name": "python",
   "nbconvert_exporter": "python",
   "pygments_lexer": "ipython3",
   "version": "3.11.5"
  }
 },
 "nbformat": 4,
 "nbformat_minor": 5
}
